{
 "cells": [
  {
   "cell_type": "code",
   "execution_count": 18,
   "metadata": {},
   "outputs": [],
   "source": [
    "import nbimporter\n",
    "import dataGen\n",
    "import stats_employees_m1\n",
    "import pandas as pd\n",
    "import names\n",
    "import numpy as np\n",
    "import matplotlib.pyplot as plt\n",
    "\n",
    "\n",
    "from pylab import plot, show, axis, subplot, xlabel, ylabel, grid\n",
    "\n",
    "import math\n",
    "import random\n",
    "\n",
    "%matplotlib inline"
   ]
  },
  {
   "cell_type": "markdown",
   "metadata": {},
   "source": [
    "# Correlates for Metric1 - Job Performance"
   ]
  },
  {
   "cell_type": "code",
   "execution_count": 19,
   "metadata": {},
   "outputs": [],
   "source": [
    "# Transform features, takes the raw correlated features and fits them into a proper range and bounds.\n",
    "def transformFeatures(correlatedFeatures):\n",
    "    education = np.round(correlatedFeatures[0] * .3, 2)\n",
    "    gpa = np.round(correlatedFeatures[1] * .2 + 3, 2) # GPA\n",
    "    # techApt = imposeBoundaries(y[3] / 3 + 2, 0, 4) # Technical Aptitude\n",
    "    educationalPrestige = np.round(correlatedFeatures[2] / 3 + 2, 1)\n",
    "    # softSkills = imposeBoundaries(y[4] / 3 + 3, 0, 5) # Soft Skills\n",
    "    softSkills = np.round(correlatedFeatures[3] / 3 + 3, 2)\n",
    "    # yearsOfExperience = negsToZero(y[5] + 4) # Years of Experience\n",
    "    yearsOfExperience = np.round(correlatedFeatures[4] + 4, 1)\n",
    "    return education, gpa, educationalPrestige, softSkills, yearsOfExperience"
   ]
  },
  {
   "cell_type": "code",
   "execution_count": 20,
   "metadata": {},
   "outputs": [
    {
     "data": {
      "text/plain": [
       "120"
      ]
     },
     "execution_count": 20,
     "metadata": {},
     "output_type": "execute_result"
    }
   ],
   "source": [
    "employeeData = pd.DataFrame()\n",
    "gender = \"female\"\n",
    "race = \"Asian\"\n",
    "numPpl = stats_employees_m1.loadPpl(race, gender)\n",
    "numPpl"
   ]
  },
  {
   "cell_type": "code",
   "execution_count": 21,
   "metadata": {},
   "outputs": [
    {
     "name": "stdout",
     "output_type": "stream",
     "text": [
      "[[10.0021    6.23373   4.19849   3.2561    7.26461   5.2858  ]\n",
      " [ 6.23373   6.346149  1.377637  1.75      3.291293  3.996   ]\n",
      " [ 4.19849   1.377637  5.906381  1.2386    3.992109  1.9011  ]\n",
      " [ 3.2561    1.75      1.2386    6.672401  2.99991   0.35139 ]\n",
      " [ 7.26461   3.291293  3.992109  2.99991   6.266301  4.33896 ]\n",
      " [ 5.2858    3.996     1.9011    0.35139   4.33896   6.597104]]\n",
      "[2.61133594e+01 3.47938463e-03 1.44985390e+00 2.53764659e+00\n",
      " 5.14437724e+00 6.54171944e+00]\n"
     ]
    },
    {
     "data": {
      "image/png": "[encoded data removed]",
      "text/plain": [
       "<Figure size 432x288 with 5 Axes>"
      ]
     },
     "metadata": {
      "needs_background": "light"
     },
     "output_type": "display_data"
    }
   ],
   "source": [
    "matrix = [\n",
    "         [1.3, .1, -1.1, 1.5, 1.5, 1.61],\n",
    "         [1.0, -1., .3, 1.5, 1.01, .993],\n",
    "         [1.1, .8, -1.1, 1.01, -1, .909],\n",
    "         [1.1, 0.2, -1.001, 1.1, .98, -1.5],\n",
    "         [1.05, 1.02, -1.01, 1.02, 1.03, 1.001],\n",
    "         [1.03 , .998, 1.01,.9, 1.01, 1.3],\n",
    "         ]\n",
    "jobPerf, correlatedFeatures = dataGen.featuresCorrelatingToMetric(numPpl, matrix, numVars=6)\n",
    "education, gpa, educationalPrestige, softSkills, yearsOfExp = transformFeatures(correlatedFeatures)\n",
    "# Plot various projections of the samples.\n",
    "subplot(3,2,5)\n",
    "plot(jobPerf, educationalPrestige, 'b.')\n",
    "xlabel(\"Job Performance\")\n",
    "ylabel(\"educationalPrestige\")\n",
    "axis('equal')\n",
    "grid(True)\n",
    "\n",
    "subplot(3,2,1)\n",
    "plot(jobPerf, education, 'b.')\n",
    "ylabel('education')\n",
    "axis('equal')\n",
    "grid(True)\n",
    "\n",
    "subplot(3,2,2) \n",
    "plot(jobPerf, softSkills, 'b.')\n",
    "ylabel(\"Soft Skills\")\n",
    "axis('equal')\n",
    "grid(True)\n",
    "\n",
    "subplot(3,2,3)\n",
    "plot(jobPerf, gpa, 'b.')\n",
    "xlabel('Job Performance')\n",
    "ylabel('GPA')\n",
    "axis('equal')\n",
    "grid(True)\n",
    "\n",
    "subplot(3,2,4)\n",
    "plot(jobPerf, yearsOfExp, 'b.')\n",
    "xlabel('Job Performance')\n",
    "ylabel('Years Experience')\n",
    "axis('equal')\n",
    "grid(True)\n",
    "\n",
    "show()"
   ]
  },
  {
   "cell_type": "code",
   "execution_count": 22,
   "metadata": {},
   "outputs": [],
   "source": [
    "employeeData[\"Education\"] = education\n",
    "employeeData[\"GPA\"] = gpa\n",
    "employeeData[\"Educational Prestige\"] = educationalPrestige\n",
    "employeeData[\"Years of Experience\"] = yearsOfExp\n",
    "employeeData[\"Soft Skills\"] = softSkills\n",
    "employeeData[\"Manager's Assessment Score\"] = np.round(jobPerf, 2)\n"
   ]
  },
  {
   "cell_type": "markdown",
   "metadata": {},
   "source": [
    "# Generating Correlates for Metric2 - Job Tenure"
   ]
  },
  {
   "cell_type": "code",
   "execution_count": 23,
   "metadata": {},
   "outputs": [],
   "source": [
    "def transformTenureCorrelates(jobTenure, correlatesToTenure):\n",
    "    jobTenure = np.round(dataGen.negsToZero(jobTenure + 3), 1)\n",
    "    militaryTenure = np.round(dataGen.negsToZero(correlatesToTenure[0] * .5 + 2), 1) # militaryTenure\n",
    "    commuteTime = np.round(dataGen.negsToOpp(correlatesToTenure[1] * 10 + 30), 0)# commuteTime\n",
    "    culturalFit = np.round(correlatesToTenure[2], 2)\n",
    "    return jobTenure, militaryTenure, commuteTime, culturalFit"
   ]
  },
  {
   "cell_type": "code",
   "execution_count": 25,
   "metadata": {},
   "outputs": [
    {
     "name": "stdout",
     "output_type": "stream",
     "text": [
      "[[ 4.86  4.96 -2.72  4.19]\n",
      " [ 4.96  5.19 -2.29  4.28]\n",
      " [-2.72 -2.29  7.09 -1.97]\n",
      " [ 4.19  4.28 -1.97  3.66]]\n",
      "[1.55382437e+01 5.17440585e+00 4.36191993e-03 8.29885059e-02]\n"
     ]
    },
    {
     "data": {
      "image/png": "[encoded data removed]",
      "text/plain": [
       "<Figure size 432x288 with 3 Axes>"
      ]
     },
     "metadata": {
      "needs_background": "light"
     },
     "output_type": "display_data"
    }
   ],
   "source": [
    "matrix = [\n",
    "        [  1.20, 1.00, 1.10, 1.10],\n",
    "        [ 1.00,  .90, 1.30, 1.3],\n",
    "        [ -1.20,  -1.50,  -1.20, 1.4],\n",
    "        [1.00, .9, .8, 1.1]\n",
    "    ]\n",
    "\n",
    "jobTenure, correlatesToTenure = featuresCorrelatingToMetric(numPpl, matrix , numVars=4)\n",
    "# print(len(jobTenure))\n",
    "jobTenure, militaryTenure, commuteTime, culturalFit = transformTenureCorrelates(jobTenure, correlatesToTenure)\n",
    "\n",
    "# Need to make it such that most military time = 0.\n",
    "for x in range(len(militaryTenure)):\n",
    "    if np.random.uniform(0, 1) < .9:\n",
    "        militaryTenure[x] = 0\n",
    "        \n",
    "employeeData[\"Military Tenure\"] = militaryTenure\n",
    "employeeData[\"Avg Commute Time\"] = commuteTime\n",
    "employeeData[\"Job Tenure\"] = jobTenure\n",
    "employeeData[\"Cultural Fit\"] = culturalFit\n",
    "\n",
    "\n",
    "subplot(2, 2, 1)\n",
    "plot(jobTenure, militaryTenure, 'b.')\n",
    "xlabel('Job Tenure')\n",
    "ylabel('Military Tenure')\n",
    "axis('equal')\n",
    "grid(True)\n",
    "\n",
    "\n",
    "subplot(2, 2, 2)\n",
    "plot(jobTenure, commuteTime, 'b.')\n",
    "xlabel('Job Tenure')\n",
    "ylabel('Commute Time')\n",
    "axis('equal')\n",
    "grid(True)\n",
    "\n",
    "subplot(2, 2, 3)\n",
    "plot(jobTenure, culturalFit, 'b.')\n",
    "xlabel('Job Tenure')\n",
    "ylabel('Cultural Fit')\n",
    "axis('equal')\n",
    "grid(True)\n",
    "\n",
    "show()"
   ]
  },
  {
   "cell_type": "markdown",
   "metadata": {},
   "source": [
    "# Generating Correlates for Metric3 - Deals Closed\n"
   ]
  },
  {
   "cell_type": "code",
   "execution_count": 13,
   "metadata": {},
   "outputs": [
    {
     "name": "stdout",
     "output_type": "stream",
     "text": [
      "[[5.16     3.98     4.235    4.2011  ]\n",
      " [3.98     4.34     3.745    3.2503  ]\n",
      " [4.235    3.745    4.0801   3.5821  ]\n",
      " [4.2011   3.2503   3.5821   3.462001]]\n",
      "[1.58390244e+01 9.07804471e-01 9.50316454e-04 2.94321773e-01]\n"
     ]
    }
   ],
   "source": [
    "#  Insert another metric # \n",
    "matrix_dealsClosed = [\n",
    "    [1.3, .1, 1.1, 1.5],\n",
    "    [1.0, 1., .3, 1.5],\n",
    "    [1.1, .8, 1.1, 1.01],\n",
    "    [1.1, 0.2, 1.001, 1.1],\n",
    "]\n",
    "dealsClosed, correlatesToDealsClosed = featuresCorrelatingToMetric(numPpl, matrix_dealsClosed , numVars=4)"
   ]
  },
  {
   "cell_type": "code",
   "execution_count": 26,
   "metadata": {},
   "outputs": [
    {
     "name": "stdout",
     "output_type": "stream",
     "text": [
      "[13.01 11.96 14.39 13.87 10.06 13.34 13.4  15.99 16.49 11.36 11.79 16.26\n",
      " 16.86 12.74 11.18 15.52  9.87 17.96 16.35 14.04 14.04 13.6  14.96 14.59\n",
      " 14.59 13.77  9.98 11.35 11.81 14.75 13.27 15.8  15.36 13.88 14.99 14.27\n",
      " 14.88 12.83 18.54 12.39 17.23 12.55 14.81 17.85 10.41 15.56 13.31 13.84\n",
      " 18.37 14.4  17.76 17.49 14.94 15.98  7.   12.66 15.36 14.41 14.4  15.05\n",
      " 17.43 17.95 14.27 15.23 12.94 18.2  18.29 14.83 16.28 11.61 15.21 12.88\n",
      "  7.   12.93 12.36 14.29 11.55 14.86 15.67  9.77 13.01 17.2  11.55 13.03\n",
      " 12.1  16.24 15.59 13.88 16.77 10.69 10.82 14.61 12.14 14.89 15.51 15.11\n",
      " 12.17 16.17 11.83 16.43 17.03 14.75 15.61 15.01 16.63 13.12 14.68 14.47\n",
      " 15.07 18.99  8.45 16.2  14.19 14.61 11.8   8.37 13.29  9.81 15.2  16.66]\n"
     ]
    },
    {
     "data": {
      "image/png": "[encoded data removed]",
      "text/plain": [
       "<Figure size 432x288 with 3 Axes>"
      ]
     },
     "metadata": {
      "needs_background": "light"
     },
     "output_type": "display_data"
    }
   ],
   "source": [
    "def transformDealCorrelates(dealsClosed, correlatesToDeals):\n",
    "    dealsClosed = np.round(dataGen.negsToZero(dealsClosed + 7), 2)\n",
    "    leadershipCapability = np.round(dataGen.negsToZero(correlatesToDeals[0] * .5 + 2), 2) # leadership\n",
    "    hirevueScore = np.round(correlatesToDeals[1], 2) # hireVue\n",
    "    technicalApt = np.round(correlatesToDeals[2], 2) # technical aptitude\n",
    "    return dealsClosed, leadershipCapability, hirevueScore, technicalApt\n",
    "\n",
    "\n",
    "dealsClosed, leadershipCapability, hirevueScore, technicalApt = transformDealCorrelates(dealsClosed, correlatesToDealsClosed)\n",
    "employeeData[\"Leadership Capability\"] = leadershipCapability\n",
    "employeeData[\"HireVue Score\"] = hirevueScore\n",
    "employeeData[\"Technical Aptitude\"] = technicalApt\n",
    "employeeData[\"Avg Deals Closed\"] = dealsClosed\n",
    "\n",
    "\n",
    "subplot(2, 2, 1)\n",
    "plot(dealsClosed, leadershipCapability, 'b.')\n",
    "xlabel('dealsClosed')\n",
    "ylabel('leadershipCapbility')\n",
    "axis('equal')\n",
    "grid(True)\n",
    "\n",
    "\n",
    "subplot(2, 2, 2)\n",
    "plot(dealsClosed, hirevueScore, 'b.')\n",
    "xlabel('dealsClosed')\n",
    "ylabel('hireVueScore')\n",
    "axis('equal')\n",
    "grid(True)\n",
    "\n",
    "subplot(2, 2, 3)\n",
    "plot(dealsClosed, technicalApt, 'b.')\n",
    "xlabel('dealsClosed')\n",
    "ylabel('technicalApt')\n",
    "axis('equal')\n",
    "grid(True)\n",
    "\n",
    "print(dealsClosed)"
   ]
  },
  {
   "cell_type": "code",
   "execution_count": 17,
   "metadata": {},
   "outputs": [
    {
     "name": "stdout",
     "output_type": "stream",
     "text": [
      "(120,)\n"
     ]
    },
    {
     "ename": "ValueError",
     "evalue": "could not convert string to float: 'NCAA'",
     "output_type": "error",
     "traceback": [
      "\u001b[0;31m--------------------------------------------------------------------------\u001b[0m",
      "\u001b[0;31mValueError\u001b[0m                               Traceback (most recent call last)",
      "\u001b[0;32m<ipython-input-17-7747a0ac6b34>\u001b[0m in \u001b[0;36m<module>\u001b[0;34m\u001b[0m\n\u001b[1;32m     12\u001b[0m \u001b[0memployeeData\u001b[0m\u001b[0;34m[\u001b[0m\u001b[0;34m\"Race\"\u001b[0m\u001b[0;34m]\u001b[0m \u001b[0;34m=\u001b[0m \u001b[0;34m[\u001b[0m\u001b[0mrace\u001b[0m \u001b[0;32mfor\u001b[0m \u001b[0mx\u001b[0m \u001b[0;32min\u001b[0m \u001b[0mrange\u001b[0m\u001b[0;34m(\u001b[0m\u001b[0mnumPpl\u001b[0m\u001b[0;34m)\u001b[0m\u001b[0;34m]\u001b[0m\u001b[0;34m\u001b[0m\u001b[0;34m\u001b[0m\u001b[0m\n\u001b[1;32m     13\u001b[0m \u001b[0memployeeData\u001b[0m\u001b[0;34m[\u001b[0m\u001b[0;34m\"Gender\"\u001b[0m\u001b[0;34m]\u001b[0m \u001b[0;34m=\u001b[0m \u001b[0;34m[\u001b[0m\u001b[0mgender\u001b[0m \u001b[0;32mfor\u001b[0m \u001b[0mx\u001b[0m \u001b[0;32min\u001b[0m \u001b[0mrange\u001b[0m\u001b[0;34m(\u001b[0m\u001b[0mnumPpl\u001b[0m\u001b[0;34m)\u001b[0m\u001b[0;34m]\u001b[0m\u001b[0;34m\u001b[0m\u001b[0;34m\u001b[0m\u001b[0m\n\u001b[0;32m---> 14\u001b[0;31m \u001b[0memployeeData\u001b[0m\u001b[0;34m[\u001b[0m\u001b[0;34m\"Sports\"\u001b[0m\u001b[0;34m]\u001b[0m \u001b[0;34m=\u001b[0m \u001b[0mdataGen\u001b[0m\u001b[0;34m.\u001b[0m\u001b[0mgenSportScores\u001b[0m\u001b[0;34m(\u001b[0m\u001b[0mnumPpl\u001b[0m\u001b[0;34m,\u001b[0m \u001b[0mjobPerf\u001b[0m\u001b[0;34m)\u001b[0m\u001b[0;34m\u001b[0m\u001b[0;34m\u001b[0m\u001b[0m\n\u001b[0m\u001b[1;32m     15\u001b[0m \u001b[0memployeeData\u001b[0m\u001b[0;34m[\u001b[0m\u001b[0;34m\"Birth Origin\"\u001b[0m\u001b[0;34m]\u001b[0m \u001b[0;34m=\u001b[0m \u001b[0mdataGen\u001b[0m\u001b[0;34m.\u001b[0m\u001b[0mgenBirthOrigin\u001b[0m\u001b[0;34m(\u001b[0m\u001b[0mnumPpl\u001b[0m\u001b[0;34m,\u001b[0m \u001b[0;34m[\u001b[0m\u001b[0;34m\"USA\"\u001b[0m\u001b[0;34m,\u001b[0m \u001b[0;34m\"China\"\u001b[0m\u001b[0;34m,\u001b[0m \u001b[0;34m\"Australia\"\u001b[0m\u001b[0;34m,\u001b[0m \u001b[0;34m\"Canada\"\u001b[0m\u001b[0;34m]\u001b[0m\u001b[0;34m,\u001b[0m \u001b[0;34m[\u001b[0m\u001b[0;36m.80\u001b[0m\u001b[0;34m,\u001b[0m \u001b[0;36m.10\u001b[0m\u001b[0;34m,\u001b[0m \u001b[0;36m.05\u001b[0m\u001b[0;34m,\u001b[0m \u001b[0;36m.05\u001b[0m\u001b[0;34m]\u001b[0m\u001b[0;34m)\u001b[0m\u001b[0;34m\u001b[0m\u001b[0;34m\u001b[0m\u001b[0m\n\u001b[1;32m     16\u001b[0m \u001b[0memployeeData\u001b[0m\u001b[0;34m[\u001b[0m\u001b[0;34m\"Age\"\u001b[0m\u001b[0;34m]\u001b[0m \u001b[0;34m=\u001b[0m \u001b[0mdataGen\u001b[0m\u001b[0;34m.\u001b[0m\u001b[0mgenAge\u001b[0m\u001b[0;34m(\u001b[0m\u001b[0mnumPpl\u001b[0m\u001b[0;34m,\u001b[0m \u001b[0memployeeData\u001b[0m\u001b[0;34m[\u001b[0m\u001b[0;34m\"Years of Experience\"\u001b[0m\u001b[0;34m]\u001b[0m\u001b[0;34m,\u001b[0m \u001b[0memployeeData\u001b[0m\u001b[0;34m[\u001b[0m\u001b[0;34m\"Military Tenure\"\u001b[0m\u001b[0;34m]\u001b[0m\u001b[0;34m,\u001b[0m \u001b[0memployeeData\u001b[0m\u001b[0;34m[\u001b[0m\u001b[0;34m\"Job Tenure\"\u001b[0m\u001b[0;34m]\u001b[0m\u001b[0;34m)\u001b[0m\u001b[0;34m\u001b[0m\u001b[0;34m\u001b[0m\u001b[0m\n",
      "\u001b[0;32m~/Documents/CS/module1-v3/Employees_M1/dataGen.ipynb\u001b[0m in \u001b[0;36mgenSportScores\u001b[0;34m(numPpl, jobPerf)\u001b[0m\n\u001b[1;32m    278\u001b[0m     \u001b[0;34m\"    return array\\n\"\u001b[0m\u001b[0;34m,\u001b[0m\u001b[0;34m\u001b[0m\u001b[0;34m\u001b[0m\u001b[0m\n\u001b[1;32m    279\u001b[0m     \u001b[0;34m\"\\n\"\u001b[0m\u001b[0;34m,\u001b[0m\u001b[0;34m\u001b[0m\u001b[0;34m\u001b[0m\u001b[0m\n\u001b[0;32m--> 280\u001b[0;31m     \u001b[0;34m\"def genHireVueScores(numPpl, jobPerf):\\n\"\u001b[0m\u001b[0;34m,\u001b[0m\u001b[0;34m\u001b[0m\u001b[0;34m\u001b[0m\u001b[0m\n\u001b[0m\u001b[1;32m    281\u001b[0m     \u001b[0;34m\"    leftover = []\\n\"\u001b[0m\u001b[0;34m,\u001b[0m\u001b[0;34m\u001b[0m\u001b[0;34m\u001b[0m\u001b[0m\n\u001b[1;32m    282\u001b[0m     \u001b[0;34m\"    one_third = math.floor(numPpl * .33)\\n\"\u001b[0m\u001b[0;34m,\u001b[0m\u001b[0;34m\u001b[0m\u001b[0;34m\u001b[0m\u001b[0m\n",
      "\u001b[0;31mValueError\u001b[0m: could not convert string to float: 'NCAA'"
     ]
    }
   ],
   "source": [
    "percentileToNum = math.floor(.20 * numPpl)\n",
    "numOfReferrals = math.floor(.25 * numPpl)\n",
    "top, leftover = dataGen.getTopIndxs(jobPerf, percentileToNum)\n",
    "\n",
    "employeeData[\"Undergraduate Degree\"] =  dataGen.genDegreeTypes(numPpl, jobPerf, education, \"biased\")   \n",
    "employeeData[\"LinkedIn Score\"] = dataGen.genLinkedinScore(numPpl, jobPerf)\n",
    "employeeData[\"Responsible Social Media Use\"] = dataGen.responsibleSocMediaUse(numPpl, jobPerf)\n",
    "employeeData[\"Employee Referral\"] = dataGen.genEmployeeReferrals(numPpl, top, leftover, .85, numOfReferrals) \n",
    "employeeData[\"Arrest Record\"] = dataGen.genArrestRecords(numPpl, jobPerf)\n",
    "employeeData[\"Criminal Record\"] = dataGen.genCriminalRecords(numPpl, jobPerf)\n",
    "employeeData[\"Names\"] = [names.get_full_name(gender = gender) for x in range(numPpl)]\n",
    "employeeData[\"Race\"] = [race for x in range(numPpl)]\n",
    "employeeData[\"Gender\"] = [gender for x in range(numPpl)] \n",
    "employeeData[\"Sports\"] = dataGen.genSportScores(numPpl, jobPerf)\n",
    "employeeData[\"Birth Origin\"] = dataGen.genBirthOrigin(numPpl, [\"USA\", \"China\", \"Australia\", \"Canada\"], [.80, .10, .05, .05])\n",
    "employeeData[\"Age\"] = dataGen.genAge(numPpl, employeeData[\"Years of Experience\"], employeeData[\"Military Tenure\"], employeeData[\"Job Tenure\"])\n",
    "employeeData[\"Zip\"] = dataGen.genZips(employeeData)"
   ]
  },
  {
   "cell_type": "code",
   "execution_count": 44,
   "metadata": {
    "scrolled": true
   },
   "outputs": [
    {
     "name": "stdout",
     "output_type": "stream",
     "text": [
      "<class 'pandas.core.frame.DataFrame'>\n",
      "RangeIndex: 120 entries, 0 to 119\n",
      "Data columns (total 27 columns):\n",
      " #   Column                        Non-Null Count  Dtype  \n",
      "---  ------                        --------------  -----  \n",
      " 0   Education                     120 non-null    float64\n",
      " 1   GPA                           120 non-null    float64\n",
      " 2   Educational Prestige          120 non-null    float64\n",
      " 3   Years of Experience           120 non-null    float64\n",
      " 4   Soft Skills                   120 non-null    float64\n",
      " 5   Manager's Assessment Score    120 non-null    float64\n",
      " 6   Military Tenure               120 non-null    float64\n",
      " 7   Avg Commute Time              120 non-null    float64\n",
      " 8   Job Tenure                    120 non-null    float64\n",
      " 9   Cultural Fit                  120 non-null    float64\n",
      " 10  Leadership Capability         120 non-null    float64\n",
      " 11  HireVue Score                 120 non-null    float64\n",
      " 12  Technical Aptitude            120 non-null    float64\n",
      " 13  Avg Deals Closed              120 non-null    float64\n",
      " 14  Undergraduate Degree          120 non-null    object \n",
      " 15  LinkedIn Score                120 non-null    object \n",
      " 16  Responsible Social Media Use  120 non-null    object \n",
      " 17  Employee Referral             120 non-null    float64\n",
      " 18  Arrest Record                 120 non-null    float64\n",
      " 19  Criminal Record               120 non-null    float64\n",
      " 20  Names                         120 non-null    object \n",
      " 21  Race                          120 non-null    object \n",
      " 22  Gender                        120 non-null    object \n",
      " 23  Sports                        120 non-null    float64\n",
      " 24  Birth Origin                  120 non-null    object \n",
      " 25  Age                           120 non-null    float64\n",
      " 26  Zip                           120 non-null    int64  \n",
      "dtypes: float64(19), int64(1), object(7)\n",
      "memory usage: 25.4+ KB\n"
     ]
    }
   ],
   "source": [
    "employeeData.info()"
   ]
  },
  {
   "cell_type": "code",
   "execution_count": 45,
   "metadata": {},
   "outputs": [],
   "source": [
    "employeeData.to_csv(\"employeeData_\" + gender + \"_\" + race + \".csv\")"
   ]
  }
 ],
 "metadata": {
  "kernelspec": {
   "display_name": "Python 3",
   "language": "python",
   "name": "python3"
  },
  "language_info": {
   "codemirror_mode": {
    "name": "ipython",
    "version": 3
   },
   "file_extension": ".py",
   "mimetype": "text/x-python",
   "name": "python",
   "nbconvert_exporter": "python",
   "pygments_lexer": "ipython3",
   "version": "3.7.7"
  }
 },
 "nbformat": 4,
 "nbformat_minor": 4
}
